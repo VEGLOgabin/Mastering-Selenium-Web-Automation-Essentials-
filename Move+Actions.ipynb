{
 "cells": [
  {
   "cell_type": "code",
   "execution_count": 1,
   "id": "48f8e343",
   "metadata": {},
   "outputs": [],
   "source": [
    "from selenium import webdriver\n",
    "from selenium.webdriver.common.action_chains import ActionChains\n",
    "from selenium.webdriver.common.by import By\n",
    "import time"
   ]
  },
  {
   "cell_type": "code",
   "execution_count": 7,
   "id": "b56f4339",
   "metadata": {},
   "outputs": [],
   "source": [
    "\n",
    "driver = webdriver.Firefox()\n",
    "driver.get(\"https://www.python.org/\")\n",
    "\n",
    "action = ActionChains(driver)\n",
    "btn = driver.find_element(By.LINK_TEXT,'About')\n",
    "\n",
    "# action.move_to_element(to_element=btn).click() #- moves to a specified element\n",
    "# action.move_by_offset(100, 100) - move to a specific point specified by (X, Y) coordinates\n",
    "action.move_to_element_with_offset(btn, 150, 0).click() # moves to the element specified \n",
    "#then moves to specified location from the element \n",
    "#i.e the example above the cursor moves to btn element\n",
    "#then moves 100 to the left(X-axis) and 0 vertically (Y-axis)\n",
    "\n",
    "action.perform()\n",
    "time.sleep(20)\n",
    "\n",
    "driver.quit()"
   ]
  },
  {
   "cell_type": "code",
   "execution_count": null,
   "id": "f9e4ce50",
   "metadata": {},
   "outputs": [],
   "source": []
  },
  {
   "cell_type": "code",
   "execution_count": null,
   "id": "3a409919",
   "metadata": {},
   "outputs": [],
   "source": []
  }
 ],
 "metadata": {
  "kernelspec": {
   "display_name": "Python 3 (ipykernel)",
   "language": "python",
   "name": "python3"
  },
  "language_info": {
   "codemirror_mode": {
    "name": "ipython",
    "version": 3
   },
   "file_extension": ".py",
   "mimetype": "text/x-python",
   "name": "python",
   "nbconvert_exporter": "python",
   "pygments_lexer": "ipython3",
   "version": "3.11.4"
  }
 },
 "nbformat": 4,
 "nbformat_minor": 5
}
