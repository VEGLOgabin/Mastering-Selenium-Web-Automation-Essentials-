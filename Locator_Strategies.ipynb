{
 "cells": [
  {
   "cell_type": "code",
   "execution_count": 2,
   "id": "0f03e631",
   "metadata": {},
   "outputs": [],
   "source": [
    "from selenium import webdriver\n",
    "from selenium.webdriver.common.by import By\n",
    "\n",
    "\n",
    "driver = webdriver.Firefox()\n",
    "driver.get(\"https://www.python.org/\")"
   ]
  },
  {
   "cell_type": "code",
   "execution_count": 3,
   "id": "1ebd0225",
   "metadata": {},
   "outputs": [],
   "source": [
    "# BY ID\n",
    "elt_1 = driver.find_element(By.ID, 'mainnav')\n",
    "# BY CLASS_NAME\n",
    "elt_2 = driver.find_element(By.CLASS_NAME, 'donate-button')\n",
    "# BY XPATH\n",
    "# XPath is a syntax used to navigate and select elements in an XML document in Selenium\n",
    "elt_3 = driver.find_element(By.XPATH, '//*[@id=\"touchnav-wrapper\"]/header/div/div[1]/a')\n",
    "# BY LINK_TEXT\n",
    "elt_4 = driver.find_element(By.LINK_TEXT, 'Donate')\n"
   ]
  },
  {
   "cell_type": "code",
   "execution_count": 4,
   "id": "c8ab1f2d",
   "metadata": {},
   "outputs": [
    {
     "name": "stdout",
     "output_type": "stream",
     "text": [
      "<selenium.webdriver.remote.webelement.WebElement (session=\"f4865389-a31e-4bce-964f-de96b7c91357\", element=\"812e23d2-17de-4f72-8f4a-360abfc447f7\")>\n"
     ]
    }
   ],
   "source": [
    "# BY TAG_NAME\n",
    "elt_5 = driver.find_elements(By.TAG_NAME, 'div')\n",
    "# BY NAME\n",
    "elt_6 = driver.find_element(By.NAME, 'q')\n",
    "print(elt_6)"
   ]
  },
  {
   "cell_type": "code",
   "execution_count": null,
   "id": "9c1f8a77",
   "metadata": {},
   "outputs": [],
   "source": []
  }
 ],
 "metadata": {
  "kernelspec": {
   "display_name": "Python 3 (ipykernel)",
   "language": "python",
   "name": "python3"
  },
  "language_info": {
   "codemirror_mode": {
    "name": "ipython",
    "version": 3
   },
   "file_extension": ".py",
   "mimetype": "text/x-python",
   "name": "python",
   "nbconvert_exporter": "python",
   "pygments_lexer": "ipython3",
   "version": "3.11.4"
  }
 },
 "nbformat": 4,
 "nbformat_minor": 5
}
