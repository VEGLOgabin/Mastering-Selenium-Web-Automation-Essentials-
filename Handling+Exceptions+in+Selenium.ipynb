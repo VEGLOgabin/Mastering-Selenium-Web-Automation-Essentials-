{
 "cells": [
  {
   "cell_type": "code",
   "execution_count": 1,
   "id": "3d8eae3f",
   "metadata": {},
   "outputs": [],
   "source": [
    "from selenium import webdriver\n",
    "from selenium.webdriver.common.action_chains import ActionChains\n",
    "from selenium.common.exceptions import NoSuchElementException\n",
    "from selenium.webdriver.common.by import By\n",
    "import time"
   ]
  },
  {
   "cell_type": "code",
   "execution_count": 2,
   "id": "d7e04f45",
   "metadata": {},
   "outputs": [
    {
     "name": "stdout",
     "output_type": "stream",
     "text": [
      "Element with the specified classname does not exist\n"
     ]
    }
   ],
   "source": [
    "\n",
    "driver = webdriver.Firefox()\n",
    "driver.get(\"https://www.python.org/\")\n",
    "action = ActionChains(driver)\n",
    "\n",
    "try:\n",
    "    tab = driver.find_element(By.CLASS_NAME,'dinate-button')\n",
    "    tab.click()\n",
    "except NoSuchElementException:\n",
    "    print(\"Element with the specified classname does not exist\")\n",
    "\n",
    "action.perform()\n",
    "time.sleep(10) # Delays the shutting down of the browser window\n",
    "\n",
    "driver.quit()"
   ]
  },
  {
   "cell_type": "code",
   "execution_count": null,
   "id": "74769ba0",
   "metadata": {},
   "outputs": [],
   "source": []
  }
 ],
 "metadata": {
  "kernelspec": {
   "display_name": "Python 3 (ipykernel)",
   "language": "python",
   "name": "python3"
  },
  "language_info": {
   "codemirror_mode": {
    "name": "ipython",
    "version": 3
   },
   "file_extension": ".py",
   "mimetype": "text/x-python",
   "name": "python",
   "nbconvert_exporter": "python",
   "pygments_lexer": "ipython3",
   "version": "3.11.4"
  }
 },
 "nbformat": 4,
 "nbformat_minor": 5
}
