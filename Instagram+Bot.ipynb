{
 "cells": [
  {
   "cell_type": "code",
   "execution_count": 1,
   "id": "1c349139",
   "metadata": {},
   "outputs": [],
   "source": [
    "from selenium import webdriver\n",
    "from selenium.webdriver.common.keys import Keys\n",
    "from selenium.webdriver.common.by import By\n",
    "from selenium.common.exceptions import ElementClickInterceptedException\n",
    "import time"
   ]
  },
  {
   "cell_type": "code",
   "execution_count": 2,
   "id": "02ea8805",
   "metadata": {},
   "outputs": [],
   "source": [
    "ACC_NAME = 'johncena'\n",
    "USERNAME = 'dklein773@gmail.com'\n",
    "PASSWORD = 'testaccount23'"
   ]
  },
  {
   "cell_type": "code",
   "execution_count": 7,
   "id": "95f76dce",
   "metadata": {},
   "outputs": [],
   "source": [
    "class InstagramBot:\n",
    "    def __init__(self):\n",
    "        self.driver = webdriver.Firefox()\n",
    "        \n",
    "    def login(self):\n",
    "        self.driver.get('https://www.instagram.com/accounts/login')\n",
    "        time.sleep(5)\n",
    "        \n",
    "        username = self.driver.find_element(By.NAME,'username')\n",
    "        password = self.driver.find_element(By.NAME,'password')\n",
    "        \n",
    "        username.send_keys(USERNAME)\n",
    "        password.send_keys(PASSWORD)\n",
    "        \n",
    "        time.sleep(2)\n",
    "        password.send_keys(Keys.ENTER)\n",
    "        \n",
    "    def find_user(self, account_name):\n",
    "        time.sleep(5)\n",
    "        self.driver.get(f'https://www.instagram.com/{account_name}')\n",
    "        time.sleep(5)\n",
    "        \n",
    "        follow = self.driver.find_element(By.XPATH,'/html/body/div[2]/div/div/div[2]/div/div/div[1]/div[1]/div[2]/div[2]/section/main/div/header/section/div[1]/div[2]/div/div[1]/button')\n",
    "        follow.click()\n",
    "        time.sleep(2)\n",
    "        \n",
    "        followers = self.driver.find_element(By.CSS_SELECTOR,'li a ._ac2a')\n",
    "        followers.click()\n",
    "        \n",
    "    def follow(self, number):\n",
    "        time.sleep(5)\n",
    "        follow_buttons = []\n",
    "        for i in range(1, number + 1):\n",
    "            btn = self.driver.find_element(By.XPATH,f'/html/body/div[6]/div[1]/div/div[2]/div/div/div/div/div[2]/div/div/div[2]/div[2]/div/div[{i}]/div/div/div/div[3]/div/button')\n",
    "            follow_buttons.append(btn)\n",
    "            \n",
    "        for button in follow_buttons:\n",
    "            try:\n",
    "                button.click()\n",
    "                time.sleep(1)\n",
    "            except ElementClickInterceptedException:\n",
    "                print(\"Click has been intercepted by a modal\")\n",
    "    \n",
    "    def close(self):\n",
    "        self.driver.quit()"
   ]
  },
  {
   "cell_type": "code",
   "execution_count": null,
   "id": "399d83ff",
   "metadata": {},
   "outputs": [],
   "source": [
    "bot = InstagramBot()\n",
    "bot.login()\n",
    "bot.find_user('johncena')\n",
    "bot.follow(5)\n",
    "bot.close()\n",
    "#bot1 = InstagramBot()\n",
    "#b0t2 = InstagramBot()\n",
    "#bot3 = InstagramBot()"
   ]
  },
  {
   "cell_type": "code",
   "execution_count": null,
   "id": "bdd73733",
   "metadata": {},
   "outputs": [],
   "source": []
  }
 ],
 "metadata": {
  "kernelspec": {
   "display_name": "Python 3 (ipykernel)",
   "language": "python",
   "name": "python3"
  },
  "language_info": {
   "codemirror_mode": {
    "name": "ipython",
    "version": 3
   },
   "file_extension": ".py",
   "mimetype": "text/x-python",
   "name": "python",
   "nbconvert_exporter": "python",
   "pygments_lexer": "ipython3",
   "version": "3.11.4"
  }
 },
 "nbformat": 4,
 "nbformat_minor": 5
}
